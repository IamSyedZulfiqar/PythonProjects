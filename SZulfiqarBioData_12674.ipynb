{
 "cells": [
  {
   "cell_type": "code",
   "execution_count": 2,
   "metadata": {},
   "outputs": [
    {
     "name": "stdout",
     "output_type": "stream",
     "text": [
      "Name .................. :  SYED ZULFIQAR\n",
      "Father's Name ......... :  SYED xxxxxx ALI\n",
      "Date Of Birth ......... :  01/XX/19XX\n",
      "Experience (in Years) . :  20  Years\n"
     ]
    }
   ],
   "source": [
    "str_Name = \"SYED ZULFIQAR\"\n",
    "str_FatherName = \"SYED xxxxxx ALI\"\n",
    "str_DateOfBirth = \"01/XX/19XX\"\n",
    "int_Experience = 20\n",
    "print(\"Name .................. : \", str_Name )\n",
    "print(\"Father's Name ......... : \", str_FatherName)\n",
    "print(\"Date Of Birth ......... : \", str_DateOfBirth)\n",
    "print(\"Experience (in Years) . : \", int_Experience, \" Years\")\n"
   ]
  },
  {
   "cell_type": "code",
   "execution_count": null,
   "metadata": {},
   "outputs": [],
   "source": []
  },
  {
   "cell_type": "code",
   "execution_count": null,
   "metadata": {},
   "outputs": [],
   "source": []
  }
 ],
 "metadata": {
  "kernelspec": {
   "display_name": "Python 3",
   "language": "python",
   "name": "python3"
  },
  "language_info": {
   "codemirror_mode": {
    "name": "ipython",
    "version": 3
   },
   "file_extension": ".py",
   "mimetype": "text/x-python",
   "name": "python",
   "nbconvert_exporter": "python",
   "pygments_lexer": "ipython3",
   "version": "3.7.4"
  }
 },
 "nbformat": 4,
 "nbformat_minor": 2
}
